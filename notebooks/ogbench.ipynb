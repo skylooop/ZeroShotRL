{
 "cells": [
  {
   "cell_type": "code",
   "execution_count": 7,
   "metadata": {},
   "outputs": [
    {
     "data": {
      "text/plain": [
       "<matplotlib.collections.PathCollection at 0x7fbe2f9e7160>"
      ]
     },
     "execution_count": 7,
     "metadata": {},
     "output_type": "execute_result"
    },
    {
     "data": {
      "image/png": "[encoded data removed]",
      "text/plain": [
       "<Figure size 800x600 with 1 Axes>"
      ]
     },
     "metadata": {},
     "output_type": "display_data"
    }
   ],
   "source": [
    "# MISC\n",
    "import os\n",
    "import sys\n",
    "sys.path.append(\"..\")\n",
    "\n",
    "os.environ['MUJOCO_GL']='egl'\n",
    "from rich.pretty import pprint\n",
    "import shutup\n",
    "shutup.please()\n",
    "\n",
    "import numpy as np\n",
    "\n",
    "# RL \n",
    "import gymnasium\n",
    "import ogbench\n",
    "import ogbench.online_locomotion.wrappers\n",
    "from envs.ogbench.ant_utils import MazeVizWrapper\n",
    "\n",
    "# VIS\n",
    "import matplotlib.pyplot as plt\n",
    "import mediapy\n",
    "import scienceplots\n",
    "plt.style.use(['science', 'notebook'])\n",
    "\n",
    "# Use either exising dataset or create from data_gen_scripts\n",
    "# 'pointmaze-medium-explore-v0'\n",
    "env = ogbench.make_env_and_datasets( #  train_dataset, valid_dataset \n",
    "    \"pointmaze-medium-explore-v0\",\n",
    "    env_only=True, render_mode='rgb_array'\n",
    ")\n",
    "env = MazeVizWrapper(env)\n",
    "\n",
    "pointmaze_explore_data = np.load(\"/home/m_bobrin/ZeroShotRL/aux_data/pointmaze-medium-explore-v0.npz\")\n",
    "fig, ax = plt.subplots()\n",
    "\n",
    "env.draw(ax=ax)\n",
    "ax.scatter(pointmaze_explore_data['observations'][:, 0], pointmaze_explore_data['observations'][:, 1])"
   ]
  },
  {
   "cell_type": "code",
   "execution_count": null,
   "metadata": {},
   "outputs": [],
   "source": []
  }
 ],
 "metadata": {
  "kernelspec": {
   "display_name": "jax",
   "language": "python",
   "name": "python3"
  },
  "language_info": {
   "codemirror_mode": {
    "name": "ipython",
    "version": 3
   },
   "file_extension": ".py",
   "mimetype": "text/x-python",
   "name": "python",
   "nbconvert_exporter": "python",
   "pygments_lexer": "ipython3",
   "version": "3.10.4"
  }
 },
 "nbformat": 4,
 "nbformat_minor": 2
}
